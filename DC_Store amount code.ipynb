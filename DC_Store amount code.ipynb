{
 "cells": [
  {
   "cell_type": "code",
   "execution_count": 42,
   "id": "a91fc58e",
   "metadata": {},
   "outputs": [
    {
     "name": "stdout",
     "output_type": "stream",
     "text": [
      "       Need State   DC Amount  Year  Week  Store Amount on Hand\n",
      "0    Need State 1  1445929.50  2021     1            3667244.25\n",
      "6    Need State 1  1615275.00  2021     2            3622755.00\n",
      "12   Need State 1  1389862.50  2021     3            3573918.75\n",
      "18   Need State 1  1111251.00  2021     4            3528955.50\n",
      "24   Need State 1  1040040.75  2021     5            3538705.50\n",
      "..            ...         ...   ...   ...                   ...\n",
      "906  Need State 1        0.00  2023    48                  0.00\n",
      "912  Need State 1        0.00  2023    49                  0.00\n",
      "918  Need State 1        0.00  2023    50                  0.00\n",
      "924  Need State 1        0.00  2023    51                  0.00\n",
      "930  Need State 1        0.00  2023    52                  0.00\n",
      "\n",
      "[156 rows x 5 columns]\n"
     ]
    }
   ],
   "source": [
    "import pandas as pd\n",
    "\n",
    "# Load your data\n",
    "data = pd.read_csv('data.csv')\n",
    "\n",
    "# Melting the DataFrame\n",
    "melted_data = pd.melt(data, id_vars=['Fiscal Year  /  Fiscal Week', 'Unnamed: 1'], var_name='YearWeek', value_name='Amount')\n",
    "\n",
    "# Correctly extracting Year and Week\n",
    "melted_data['Year'] = melted_data['YearWeek'].apply(lambda x: x.split('.')[0])\n",
    "melted_data['Week'] = melted_data['YearWeek'].apply(lambda x: x.split('.')[1] if '.' in x else 0)\n",
    "\n",
    "# Separating DC Amount and Store Amount on Hand data\n",
    "dc_amount = melted_data[melted_data['Unnamed: 1'] == 'Dc Amount'].copy()\n",
    "store_amount = melted_data[melted_data['Unnamed: 1'] == 'Store Amt On Hand'].copy()\n",
    "\n",
    "# Renaming and dropping unnecessary columns\n",
    "dc_amount.rename(columns={'Amount': 'DC Amount', 'Fiscal Year  /  Fiscal Week': 'Need State'}, inplace=True)\n",
    "dc_amount.drop(['Unnamed: 1', 'YearWeek'], axis=1, inplace=True)\n",
    "\n",
    "store_amount.rename(columns={'Amount': 'Store Amount on Hand', 'Fiscal Year  /  Fiscal Week': 'Need State'}, inplace=True)\n",
    "store_amount.drop(['Unnamed: 1', 'YearWeek'], axis=1, inplace=True)\n",
    "\n",
    "# Merging DC and Store Amount data\n",
    "final_data = pd.merge(dc_amount, store_amount, on=['Need State', 'Year', 'Week'])\n",
    "#final_data[\"Week\"].astype(int)\n",
    "final_data['Week'].astype(str).astype(int)\n",
    "\n",
    "final_data[\"Week\"] = final_data['Week'].astype(str).astype(int) + 1\n",
    "\n",
    "#final_data[\"Week\"] = final_data[\"Week\"] + 1\n",
    "\n",
    "print(final_data[final_data[\"Need State\"]==\"Need State 1\"])\n",
    "# Example: Save the final transformed DataFrame to a CSV\n",
    "final_data.to_csv('transformed_data_final_1.csv', index=False)"
   ]
  },
  {
   "cell_type": "code",
   "execution_count": null,
   "id": "764ced98",
   "metadata": {},
   "outputs": [],
   "source": []
  }
 ],
 "metadata": {
  "kernelspec": {
   "display_name": "Python 3 (ipykernel)",
   "language": "python",
   "name": "python3"
  },
  "language_info": {
   "codemirror_mode": {
    "name": "ipython",
    "version": 3
   },
   "file_extension": ".py",
   "mimetype": "text/x-python",
   "name": "python",
   "nbconvert_exporter": "python",
   "pygments_lexer": "ipython3",
   "version": "3.11.6"
  }
 },
 "nbformat": 4,
 "nbformat_minor": 5
}
